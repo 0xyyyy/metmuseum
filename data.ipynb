{
 "metadata": {
  "language_info": {
   "codemirror_mode": {
    "name": "ipython",
    "version": 3
   },
   "file_extension": ".py",
   "mimetype": "text/x-python",
   "name": "python",
   "nbconvert_exporter": "python",
   "pygments_lexer": "ipython3",
   "version": 3
  },
  "orig_nbformat": 2,
  "kernelspec": {
   "name": "python_defaultSpec_1595015174011",
   "display_name": "Python 3.7.4 64-bit ('ymoxl': virtualenv)"
  }
 },
 "nbformat": 4,
 "nbformat_minor": 2,
 "cells": [
  {
   "cell_type": "code",
   "execution_count": 10,
   "metadata": {},
   "outputs": [],
   "source": [
    "import requests\n",
    "import pandas as pd \n",
    "from pprint import pprint\n",
    "from flask import jsonify\n",
    "import matplotlib.pyplot as plt \n",
    "try:\n",
    "    # For Python 3.0 and later\n",
    "    from urllib.error import HTTPError\n",
    "    from urllib.parse import quote\n",
    "    from urllib.parse import urlencode\n",
    "except ImportError: \n",
    "    # Fall back to Python 2's urllib2 and urllib\n",
    "    from urllib2 import HTTPError\n",
    "    from urllib import quote\n",
    "    from urllib import urlencode"
   ]
  },
  {
   "cell_type": "code",
   "execution_count": 20,
   "metadata": {},
   "outputs": [],
   "source": [
    "host = \"https://collectionapi.metmuseum.org\"\n",
    "path = \"/public/collection/v1/objects\""
   ]
  },
  {
   "cell_type": "code",
   "execution_count": 6,
   "metadata": {},
   "outputs": [],
   "source": [
    "response = requests.get(url).json()"
   ]
  },
  {
   "cell_type": "code",
   "execution_count": 8,
   "metadata": {
    "tags": []
   },
   "outputs": [
    {
     "output_type": "stream",
     "name": "stdout",
     "text": "474448\n"
    }
   ],
   "source": [
    "print(response)"
   ]
  },
  {
   "cell_type": "code",
   "execution_count": 12,
   "metadata": {},
   "outputs": [],
   "source": [
    "def request(host, path):\n",
    "    \"\"\"Given your API_KEY, send a GET request to the API.\n",
    "    Args:\n",
    "        host (str): The domain host of the API.\n",
    "        path (str): The path of the API after the domain.\n",
    "        API_KEY (str): Your API Key.\n",
    "        url_params (dict): An optional set of query parameters in the request.\n",
    "    Returns:\n",
    "        dict: The JSON response from the request.\n",
    "    Raises:\n",
    "        HTTPError: An error occurs from the HTTP request.\n",
    "    \"\"\"\n",
    "    # url_params = url_params or {}\n",
    "\n",
    "    print(u'Querying {0} ...'.format(host))\n",
    "    print(f\"{host}{path}\")\n",
    "\n",
    "    response = requests.get(f\"{host}{path}\")\n",
    "\n",
    "    print(\"querying complete\")\n",
    "\n",
    "    return response.json()"
   ]
  },
  {
   "cell_type": "code",
   "execution_count": 17,
   "metadata": {
    "tags": []
   },
   "outputs": [
    {
     "output_type": "stream",
     "name": "stdout",
     "text": "Querying https://collectionapi.metmuseum.org ...\nhttps://collectionapi.metmuseum.org/public/collection/v1/objects/1\nquerying complete\n"
    }
   ],
   "source": [
    "response = request(host, path)"
   ]
  },
  {
   "cell_type": "code",
   "execution_count": 36,
   "metadata": {},
   "outputs": [],
   "source": [
    "def iterativerequest(host, path):\n",
    "    Object_ID = [1, 2, 3, 4, 5, 6, 7, 8, 9, 10]\n",
    "    for i in Object_ID:\n",
    "        response = requests.get(f\"{host}{path}/{i}\")\n",
    "    \n",
    "    return response.json()"
   ]
  },
  {
   "cell_type": "code",
   "execution_count": 35,
   "metadata": {},
   "outputs": [
    {
     "output_type": "error",
     "ename": "TypeError",
     "evalue": "'NoneType' object is not subscriptable",
     "traceback": [
      "\u001b[1;31m---------------------------------------------------------------------------\u001b[0m",
      "\u001b[1;31mTypeError\u001b[0m                                 Traceback (most recent call last)",
      "\u001b[1;32m<ipython-input-35-9c469b8697c7>\u001b[0m in \u001b[0;36m<module>\u001b[1;34m\u001b[0m\n\u001b[1;32m----> 1\u001b[1;33m \u001b[0mdata\u001b[0m \u001b[1;33m=\u001b[0m \u001b[0miterativerequest\u001b[0m\u001b[1;33m(\u001b[0m\u001b[0mhost\u001b[0m\u001b[1;33m,\u001b[0m \u001b[0mpath\u001b[0m\u001b[1;33m)\u001b[0m\u001b[1;33m\u001b[0m\u001b[1;33m\u001b[0m\u001b[0m\n\u001b[0m",
      "\u001b[1;32m<ipython-input-34-3d8e6e370ca5>\u001b[0m in \u001b[0;36miterativerequest\u001b[1;34m(host, path)\u001b[0m\n\u001b[0;32m      7\u001b[0m         \u001b[0mart_dict\u001b[0m\u001b[1;33m[\u001b[0m\u001b[1;34m\"accessionYear\"\u001b[0m\u001b[1;33m]\u001b[0m \u001b[1;33m=\u001b[0m \u001b[0mdata\u001b[0m\u001b[1;33m[\u001b[0m\u001b[1;34m\"accessionYear\"\u001b[0m\u001b[1;33m]\u001b[0m\u001b[1;33m\u001b[0m\u001b[1;33m\u001b[0m\u001b[0m\n\u001b[0;32m      8\u001b[0m         \u001b[0mart_dict\u001b[0m\u001b[1;33m[\u001b[0m\u001b[1;34m\"title\"\u001b[0m\u001b[1;33m]\u001b[0m \u001b[1;33m=\u001b[0m \u001b[0mdata\u001b[0m\u001b[1;33m[\u001b[0m\u001b[1;34m\"title\"\u001b[0m\u001b[1;33m]\u001b[0m\u001b[1;33m\u001b[0m\u001b[1;33m\u001b[0m\u001b[0m\n\u001b[1;32m----> 9\u001b[1;33m         \u001b[0mart_dict\u001b[0m\u001b[1;33m[\u001b[0m\u001b[1;34m\"constituents\"\u001b[0m\u001b[1;33m]\u001b[0m \u001b[1;33m=\u001b[0m \u001b[0mdata\u001b[0m\u001b[1;33m[\u001b[0m\u001b[1;34m\"constituents\"\u001b[0m\u001b[1;33m]\u001b[0m\u001b[1;33m[\u001b[0m\u001b[1;36m0\u001b[0m\u001b[1;33m]\u001b[0m\u001b[1;33m[\u001b[0m\u001b[1;34m\"name\"\u001b[0m\u001b[1;33m]\u001b[0m\u001b[1;33m\u001b[0m\u001b[1;33m\u001b[0m\u001b[0m\n\u001b[0m\u001b[0;32m     10\u001b[0m \u001b[1;33m\u001b[0m\u001b[0m\n\u001b[0;32m     11\u001b[0m     \u001b[1;32mreturn\u001b[0m \u001b[0mresponse\u001b[0m\u001b[1;33m.\u001b[0m\u001b[0mjson\u001b[0m\u001b[1;33m(\u001b[0m\u001b[1;33m)\u001b[0m\u001b[1;33m,\u001b[0m \u001b[0mart_dict\u001b[0m\u001b[1;33m\u001b[0m\u001b[1;33m\u001b[0m\u001b[0m\n",
      "\u001b[1;31mTypeError\u001b[0m: 'NoneType' object is not subscriptable"
     ]
    }
   ],
   "source": [
    "data = iterativerequest(host, path)"
   ]
  },
  {
   "cell_type": "code",
   "execution_count": 33,
   "metadata": {},
   "outputs": [
    {
     "output_type": "execute_result",
     "data": {
      "text/plain": "10"
     },
     "metadata": {},
     "execution_count": 33
    }
   ],
   "source": [
    "data['objectID']"
   ]
  },
  {
   "cell_type": "code",
   "execution_count": 18,
   "metadata": {},
   "outputs": [
    {
     "output_type": "execute_result",
     "data": {
      "text/plain": "{'objectID': 1,\n 'isHighlight': False,\n 'accessionNumber': '1979.486.1',\n 'accessionYear': '1979',\n 'isPublicDomain': False,\n 'primaryImage': '',\n 'primaryImageSmall': '',\n 'additionalImages': [],\n 'constituents': [{'role': 'Maker',\n   'name': 'James Barton Longacre',\n   'constituentULAN_URL': 'http://vocab.getty.edu/page/ulan/500011409',\n   'constituentWikidata_URL': '',\n   'gender': ''}],\n 'department': 'The American Wing',\n 'objectName': 'Coin',\n 'title': 'One-dollar Liberty Head Coin',\n 'culture': '',\n 'period': '',\n 'dynasty': '',\n 'reign': '',\n 'portfolio': '',\n 'artistRole': 'Maker',\n 'artistPrefix': '',\n 'artistDisplayName': 'James Barton Longacre',\n 'artistDisplayBio': 'American, Delaware County, Pennsylvania 1794–1869 Philadelphia, Pennsylvania',\n 'artistSuffix': '',\n 'artistAlphaSort': 'Longacre, James Barton',\n 'artistNationality': 'American',\n 'artistBeginDate': '1794',\n 'artistEndDate': '1869',\n 'artistGender': '',\n 'artistWikidata_URL': '',\n 'artistULAN_URL': 'http://vocab.getty.edu/page/ulan/500011409',\n 'objectDate': '1853',\n 'objectBeginDate': 1853,\n 'objectEndDate': 1853,\n 'medium': 'Gold',\n 'dimensions': 'Dimensions unavailable',\n 'creditLine': 'Gift of Heinz L. Stoppelmann, 1979',\n 'geographyType': '',\n 'city': '',\n 'state': '',\n 'county': '',\n 'country': '',\n 'region': '',\n 'subregion': '',\n 'locale': '',\n 'locus': '',\n 'excavation': '',\n 'river': '',\n 'classification': 'Metal',\n 'rightsAndReproduction': '',\n 'linkResource': '',\n 'metadataDate': '2020-03-02T21:50:01.377Z',\n 'repository': 'Metropolitan Museum of Art, New York, NY',\n 'objectURL': 'https://www.metmuseum.org/art/collection/search/1',\n 'tags': None,\n 'objectWikidata_URL': '',\n 'isTimelineWork': False}"
     },
     "metadata": {},
     "execution_count": 18
    }
   ],
   "source": [
    "response"
   ]
  },
  {
   "cell_type": "code",
   "execution_count": null,
   "metadata": {},
   "outputs": [],
   "source": []
  }
 ]
}