{
 "metadata": {
  "language_info": {
   "codemirror_mode": {
    "name": "ipython",
    "version": 3
   },
   "file_extension": ".py",
   "mimetype": "text/x-python",
   "name": "python",
   "nbconvert_exporter": "python",
   "pygments_lexer": "ipython3",
   "version": 3
  },
  "orig_nbformat": 2,
  "kernelspec": {
   "name": "python_defaultSpec_1595015174011",
   "display_name": "Python 3.7.4 64-bit ('ymoxl': virtualenv)"
  }
 },
 "nbformat": 4,
 "nbformat_minor": 2,
 "cells": [
  {
   "cell_type": "code",
   "execution_count": 10,
   "metadata": {},
   "outputs": [],
   "source": [
    "import requests\n",
    "import pandas as pd \n",
    "from pprint import pprint\n",
    "from flask import jsonify\n",
    "import matplotlib.pyplot as plt \n",
    "try:\n",
    "    # For Python 3.0 and later\n",
    "    from urllib.error import HTTPError\n",
    "    from urllib.parse import quote\n",
    "    from urllib.parse import urlencode\n",
    "except ImportError: \n",
    "    # Fall back to Python 2's urllib2 and urllib\n",
    "    from urllib2 import HTTPError\n",
    "    from urllib import quote\n",
    "    from urllib import urlencode"
   ]
  },
  {
   "cell_type": "code",
   "execution_count": 20,
   "metadata": {},
   "outputs": [],
   "source": [
    "host = \"https://collectionapi.metmuseum.org\"\n",
    "path = \"/public/collection/v1/objects\""
   ]
  },
  {
   "cell_type": "code",
   "execution_count": 42,
   "metadata": {},
   "outputs": [],
   "source": [
    "base_url = \"https://collectionapi.metmuseum.org/public/collection/v1/objects\""
   ]
  },
  {
   "cell_type": "code",
   "execution_count": 100,
   "metadata": {},
   "outputs": [],
   "source": [
    "def process_id(id):\n",
    "    \"\"\"process a single id\"\"\"\n",
    "    #fetch data \n",
    "    r = requests.get(f\"{base_url}/{id}\")\n",
    "    #parse JSON response\n",
    "    data = r.json()\n",
    "    data_dict = {}\n",
    "    years = [i for i in range(1841, 1971)]\n",
    "\n",
    "    if int(data[\"accessionYear\"]) in years:\n",
    "        data_dict[\"objectID\"] = data[\"objectID\"]\n",
    "        data_dict[\"department\"] = data[\"department\"]\n",
    "        data_dict[\"title\"] = data[\"title\"]\n",
    "        data_dict[\"creditLine\"] = data[\"creditLine\"]\n",
    "        data_dict[\"objectURL\"] = data[\"objectURL\"]\n",
    "        data_dict[\"accessionYear\"] = data[\"accessionYear\"]\n",
    "        \n",
    "    # update data with PUT \n",
    "        requests.put(f\"{base_url}/{id}\", data=data)\n",
    "    \n",
    "    return data, data_dict"
   ]
  },
  {
   "cell_type": "code",
   "execution_count": 104,
   "metadata": {
    "tags": []
   },
   "outputs": [
    {
     "output_type": "execute_result",
     "data": {
      "text/plain": "[{1: ({'objectID': 1,\n    'isHighlight': False,\n    'accessionNumber': '1979.486.1',\n    'accessionYear': '1979',\n    'isPublicDomain': False,\n    'primaryImage': '',\n    'primaryImageSmall': '',\n    'additionalImages': [],\n    'constituents': [{'role': 'Maker',\n      'name': 'James Barton Longacre',\n      'constituentULAN_URL': 'http://vocab.getty.edu/page/ulan/500011409',\n      'constituentWikidata_URL': '',\n      'gender': ''}],\n    'department': 'The American Wing',\n    'objectName': 'Coin',\n    'title': 'One-dollar Liberty Head Coin',\n    'culture': '',\n    'period': '',\n    'dynasty': '',\n    'reign': '',\n    'portfolio': '',\n    'artistRole': 'Maker',\n    'artistPrefix': '',\n    'artistDisplayName': 'James Barton Longacre',\n    'artistDisplayBio': 'American, Delaware County, Pennsylvania 1794–1869 Philadelphia, Pennsylvania',\n    'artistSuffix': '',\n    'artistAlphaSort': 'Longacre, James Barton',\n    'artistNationality': 'American',\n    'artistBeginDate': '1794',\n    'artistEndDate': '1869',\n    'artistGender': '',\n    'artistWikidata_URL': '',\n    'artistULAN_URL': 'http://vocab.getty.edu/page/ulan/500011409',\n    'objectDate': '1853',\n    'objectBeginDate': 1853,\n    'objectEndDate': 1853,\n    'medium': 'Gold',\n    'dimensions': 'Dimensions unavailable',\n    'creditLine': 'Gift of Heinz L. Stoppelmann, 1979',\n    'geographyType': '',\n    'city': '',\n    'state': '',\n    'county': '',\n    'country': '',\n    'region': '',\n    'subregion': '',\n    'locale': '',\n    'locus': '',\n    'excavation': '',\n    'river': '',\n    'classification': 'Metal',\n    'rightsAndReproduction': '',\n    'linkResource': '',\n    'metadataDate': '2020-03-02T21:50:01.377Z',\n    'repository': 'Metropolitan Museum of Art, New York, NY',\n    'objectURL': 'https://www.metmuseum.org/art/collection/search/1',\n    'tags': None,\n    'objectWikidata_URL': '',\n    'isTimelineWork': False},\n   {}),\n  2: ({'objectID': 2,\n    'isHighlight': False,\n    'accessionNumber': '1980.264.5',\n    'accessionYear': '1980',\n    'isPublicDomain': False,\n    'primaryImage': '',\n    'primaryImageSmall': '',\n    'additionalImages': [],\n    'constituents': [{'role': 'Maker',\n      'name': 'Christian Gobrecht',\n      'constituentULAN_URL': 'http://vocab.getty.edu/page/ulan/500077295',\n      'constituentWikidata_URL': '',\n      'gender': ''}],\n    'department': 'The American Wing',\n    'objectName': 'Coin',\n    'title': 'Ten-dollar Liberty Head Coin',\n    'culture': '',\n    'period': '',\n    'dynasty': '',\n    'reign': '',\n    'portfolio': '',\n    'artistRole': 'Maker',\n    'artistPrefix': '',\n    'artistDisplayName': 'Christian Gobrecht',\n    'artistDisplayBio': '1785–1844',\n    'artistSuffix': '',\n    'artistAlphaSort': 'Gobrecht, Christian',\n    'artistNationality': '',\n    'artistBeginDate': '1785',\n    'artistEndDate': '1844',\n    'artistGender': '',\n    'artistWikidata_URL': '',\n    'artistULAN_URL': 'http://vocab.getty.edu/page/ulan/500077295',\n    'objectDate': '1901',\n    'objectBeginDate': 1901,\n    'objectEndDate': 1901,\n    'medium': 'Gold',\n    'dimensions': 'Dimensions unavailable',\n    'creditLine': 'Gift of Heinz L. Stoppelmann, 1980',\n    'geographyType': '',\n    'city': '',\n    'state': '',\n    'county': '',\n    'country': '',\n    'region': '',\n    'subregion': '',\n    'locale': '',\n    'locus': '',\n    'excavation': '',\n    'river': '',\n    'classification': 'Metal',\n    'rightsAndReproduction': '',\n    'linkResource': '',\n    'metadataDate': '2020-03-02T21:50:01.377Z',\n    'repository': 'Metropolitan Museum of Art, New York, NY',\n    'objectURL': 'https://www.metmuseum.org/art/collection/search/2',\n    'tags': None,\n    'objectWikidata_URL': '',\n    'isTimelineWork': False},\n   {}),\n  3: ({'objectID': 3,\n    'isHighlight': False,\n    'accessionNumber': '67.265.9',\n    'accessionYear': '1967',\n    'isPublicDomain': False,\n    'primaryImage': '',\n    'primaryImageSmall': '',\n    'additionalImages': [],\n    'constituents': None,\n    'department': 'The American Wing',\n    'objectName': 'Coin',\n    'title': 'Two-and-a-Half Dollar Coin',\n    'culture': '',\n    'period': '',\n    'dynasty': '',\n    'reign': '',\n    'portfolio': '',\n    'artistRole': '',\n    'artistPrefix': '',\n    'artistDisplayName': '',\n    'artistDisplayBio': '',\n    'artistSuffix': '',\n    'artistAlphaSort': '',\n    'artistNationality': '',\n    'artistBeginDate': '',\n    'artistEndDate': '',\n    'artistGender': '',\n    'artistWikidata_URL': '',\n    'artistULAN_URL': '',\n    'objectDate': '1909–27',\n    'objectBeginDate': 1909,\n    'objectEndDate': 1927,\n    'medium': 'Gold',\n    'dimensions': 'Diam. 11/16 in. (1.7 cm)',\n    'creditLine': 'Gift of C. Ruxton Love Jr., 1967',\n    'geographyType': '',\n    'city': '',\n    'state': '',\n    'county': '',\n    'country': '',\n    'region': '',\n    'subregion': '',\n    'locale': '',\n    'locus': '',\n    'excavation': '',\n    'river': '',\n    'classification': 'Metal',\n    'rightsAndReproduction': '',\n    'linkResource': '',\n    'metadataDate': '2020-04-02T04:46:54.143Z',\n    'repository': 'Metropolitan Museum of Art, New York, NY',\n    'objectURL': 'https://www.metmuseum.org/art/collection/search/3',\n    'tags': None,\n    'objectWikidata_URL': '',\n    'isTimelineWork': False},\n   {'objectID': 3,\n    'department': 'The American Wing',\n    'title': 'Two-and-a-Half Dollar Coin',\n    'creditLine': 'Gift of C. Ruxton Love Jr., 1967',\n    'objectURL': 'https://www.metmuseum.org/art/collection/search/3',\n    'accessionYear': '1967'}),\n  4: ({'objectID': 4,\n    'isHighlight': False,\n    'accessionNumber': '67.265.10',\n    'accessionYear': '1967',\n    'isPublicDomain': False,\n    'primaryImage': '',\n    'primaryImageSmall': '',\n    'additionalImages': [],\n    'constituents': None,\n    'department': 'The American Wing',\n    'objectName': 'Coin',\n    'title': 'Two-and-a-Half Dollar Coin',\n    'culture': '',\n    'period': '',\n    'dynasty': '',\n    'reign': '',\n    'portfolio': '',\n    'artistRole': '',\n    'artistPrefix': '',\n    'artistDisplayName': '',\n    'artistDisplayBio': '',\n    'artistSuffix': '',\n    'artistAlphaSort': '',\n    'artistNationality': '',\n    'artistBeginDate': '',\n    'artistEndDate': '',\n    'artistGender': '',\n    'artistWikidata_URL': '',\n    'artistULAN_URL': '',\n    'objectDate': '1909–27',\n    'objectBeginDate': 1909,\n    'objectEndDate': 1927,\n    'medium': 'Gold',\n    'dimensions': 'Diam. 11/16 in. (1.7 cm)',\n    'creditLine': 'Gift of C. Ruxton Love Jr., 1967',\n    'geographyType': '',\n    'city': '',\n    'state': '',\n    'county': '',\n    'country': '',\n    'region': '',\n    'subregion': '',\n    'locale': '',\n    'locus': '',\n    'excavation': '',\n    'river': '',\n    'classification': 'Metal',\n    'rightsAndReproduction': '',\n    'linkResource': '',\n    'metadataDate': '2020-04-02T04:46:54.143Z',\n    'repository': 'Metropolitan Museum of Art, New York, NY',\n    'objectURL': 'https://www.metmuseum.org/art/collection/search/4',\n    'tags': None,\n    'objectWikidata_URL': '',\n    'isTimelineWork': False},\n   {'objectID': 4,\n    'department': 'The American Wing',\n    'title': 'Two-and-a-Half Dollar Coin',\n    'creditLine': 'Gift of C. Ruxton Love Jr., 1967',\n    'objectURL': 'https://www.metmuseum.org/art/collection/search/4',\n    'accessionYear': '1967'}),\n  5: ({'objectID': 5,\n    'isHighlight': False,\n    'accessionNumber': '67.265.11',\n    'accessionYear': '1967',\n    'isPublicDomain': False,\n    'primaryImage': '',\n    'primaryImageSmall': '',\n    'additionalImages': [],\n    'constituents': None,\n    'department': 'The American Wing',\n    'objectName': 'Coin',\n    'title': 'Two-and-a-Half Dollar Coin',\n    'culture': '',\n    'period': '',\n    'dynasty': '',\n    'reign': '',\n    'portfolio': '',\n    'artistRole': '',\n    'artistPrefix': '',\n    'artistDisplayName': '',\n    'artistDisplayBio': '',\n    'artistSuffix': '',\n    'artistAlphaSort': '',\n    'artistNationality': '',\n    'artistBeginDate': '',\n    'artistEndDate': '',\n    'artistGender': '',\n    'artistWikidata_URL': '',\n    'artistULAN_URL': '',\n    'objectDate': '1909–27',\n    'objectBeginDate': 1909,\n    'objectEndDate': 1927,\n    'medium': 'Gold',\n    'dimensions': 'Diam. 11/16 in. (1.7 cm)',\n    'creditLine': 'Gift of C. Ruxton Love Jr., 1967',\n    'geographyType': '',\n    'city': '',\n    'state': '',\n    'county': '',\n    'country': '',\n    'region': '',\n    'subregion': '',\n    'locale': '',\n    'locus': '',\n    'excavation': '',\n    'river': '',\n    'classification': 'Metal',\n    'rightsAndReproduction': '',\n    'linkResource': '',\n    'metadataDate': '2020-04-02T04:46:54.143Z',\n    'repository': 'Metropolitan Museum of Art, New York, NY',\n    'objectURL': 'https://www.metmuseum.org/art/collection/search/5',\n    'tags': None,\n    'objectWikidata_URL': '',\n    'isTimelineWork': False},\n   {'objectID': 5,\n    'department': 'The American Wing',\n    'title': 'Two-and-a-Half Dollar Coin',\n    'creditLine': 'Gift of C. Ruxton Love Jr., 1967',\n    'objectURL': 'https://www.metmuseum.org/art/collection/search/5',\n    'accessionYear': '1967'}),\n  6: ({'objectID': 6,\n    'isHighlight': False,\n    'accessionNumber': '67.265.12',\n    'accessionYear': '1967',\n    'isPublicDomain': False,\n    'primaryImage': '',\n    'primaryImageSmall': '',\n    'additionalImages': [],\n    'constituents': None,\n    'department': 'The American Wing',\n    'objectName': 'Coin',\n    'title': 'Two-and-a-Half Dollar Coin',\n    'culture': '',\n    'period': '',\n    'dynasty': '',\n    'reign': '',\n    'portfolio': '',\n    'artistRole': '',\n    'artistPrefix': '',\n    'artistDisplayName': '',\n    'artistDisplayBio': '',\n    'artistSuffix': '',\n    'artistAlphaSort': '',\n    'artistNationality': '',\n    'artistBeginDate': '',\n    'artistEndDate': '',\n    'artistGender': '',\n    'artistWikidata_URL': '',\n    'artistULAN_URL': '',\n    'objectDate': '1909–27',\n    'objectBeginDate': 1909,\n    'objectEndDate': 1927,\n    'medium': 'Gold',\n    'dimensions': 'Diam. 11/16 in. (1.7 cm)',\n    'creditLine': 'Gift of C. Ruxton Love Jr., 1967',\n    'geographyType': '',\n    'city': '',\n    'state': '',\n    'county': '',\n    'country': '',\n    'region': '',\n    'subregion': '',\n    'locale': '',\n    'locus': '',\n    'excavation': '',\n    'river': '',\n    'classification': 'Metal',\n    'rightsAndReproduction': '',\n    'linkResource': '',\n    'metadataDate': '2020-04-02T04:46:54.143Z',\n    'repository': 'Metropolitan Museum of Art, New York, NY',\n    'objectURL': 'https://www.metmuseum.org/art/collection/search/6',\n    'tags': None,\n    'objectWikidata_URL': '',\n    'isTimelineWork': False},\n   {'objectID': 6,\n    'department': 'The American Wing',\n    'title': 'Two-and-a-Half Dollar Coin',\n    'creditLine': 'Gift of C. Ruxton Love Jr., 1967',\n    'objectURL': 'https://www.metmuseum.org/art/collection/search/6',\n    'accessionYear': '1967'})}]"
     },
     "metadata": {},
     "execution_count": 104
    }
   ],
   "source": [
    "process_range([1, 2, 3, 4, 5, 6])"
   ]
  },
  {
   "cell_type": "code",
   "execution_count": null,
   "metadata": {},
   "outputs": [],
   "source": []
  },
  {
   "cell_type": "code",
   "execution_count": 53,
   "metadata": {},
   "outputs": [],
   "source": [
    "def process_range(id_range, store=None):\n",
    "    if store is None:\n",
    "        store = {}\n",
    "    \n",
    "    for id in id_range:\n",
    "        store[id] = process_id(id)\n",
    "\n",
    "    all_info = []\n",
    "    all_info.append(store)\n",
    "    \n",
    "    return all_info"
   ]
  },
  {
   "cell_type": "code",
   "execution_count": 51,
   "metadata": {
    "tags": []
   },
   "outputs": [
    {
     "output_type": "stream",
     "name": "stdout",
     "text": "[1, 2, 3, 4, 5, 6, 7, 8, 9, 10, 11, 12, 13, 14, 15, 16, 17, 18, 19, 20, 21, 22, 23, 24, 25, 26, 27, 28, 29, 30, 31, 32, 33, 34, 35, 36, 37, 38, 39, 40, 41, 42, 43, 44, 45, 46, 47, 48, 49, 50, 51, 52, 53, 54, 55, 56, 57, 58, 59, 60, 61, 62, 63, 64, 65, 66, 67, 68, 69, 70, 71, 72, 73, 74, 75, 76, 77, 78, 79, 80, 81, 82, 83, 84, 85, 86, 87, 88, 89, 90, 91, 92, 93, 94, 95, 96, 97, 98, 99, 100]\n"
    }
   ],
   "source": [
    "id_range = [i for i in range(1, 101)]\n",
    "print(id_range)"
   ]
  },
  {
   "cell_type": "code",
   "execution_count": 55,
   "metadata": {},
   "outputs": [],
   "source": [
    "all_data = process_range(id_range)"
   ]
  },
  {
   "cell_type": "code",
   "execution_count": 58,
   "metadata": {},
   "outputs": [
    {
     "output_type": "execute_result",
     "data": {
      "text/plain": "'1979'"
     },
     "metadata": {},
     "execution_count": 58
    }
   ],
   "source": [
    "all_data[0][1][\"accessionYear\"]"
   ]
  },
  {
   "cell_type": "code",
   "execution_count": 59,
   "metadata": {},
   "outputs": [
    {
     "output_type": "error",
     "ename": "TypeError",
     "evalue": "list indices must be integers or slices, not dict",
     "traceback": [
      "\u001b[1;31m---------------------------------------------------------------------------\u001b[0m",
      "\u001b[1;31mTypeError\u001b[0m                                 Traceback (most recent call last)",
      "\u001b[1;32m<ipython-input-59-79da9a8d0cb8>\u001b[0m in \u001b[0;36m<module>\u001b[1;34m\u001b[0m\n\u001b[0;32m      1\u001b[0m \u001b[0mfiltered\u001b[0m \u001b[1;33m=\u001b[0m \u001b[1;33m[\u001b[0m\u001b[1;33m]\u001b[0m\u001b[1;33m\u001b[0m\u001b[1;33m\u001b[0m\u001b[0m\n\u001b[0;32m      2\u001b[0m \u001b[1;32mfor\u001b[0m \u001b[0mi\u001b[0m \u001b[1;32min\u001b[0m \u001b[0mall_data\u001b[0m\u001b[1;33m:\u001b[0m\u001b[1;33m\u001b[0m\u001b[1;33m\u001b[0m\u001b[0m\n\u001b[1;32m----> 3\u001b[1;33m     \u001b[1;32mif\u001b[0m \u001b[0mall_data\u001b[0m\u001b[1;33m[\u001b[0m\u001b[0mi\u001b[0m\u001b[1;33m]\u001b[0m\u001b[1;33m[\u001b[0m\u001b[0mi\u001b[0m\u001b[1;33m+\u001b[0m\u001b[1;36m1\u001b[0m\u001b[1;33m]\u001b[0m\u001b[1;33m[\u001b[0m\u001b[1;34m\"accessionYear\"\u001b[0m\u001b[1;33m]\u001b[0m \u001b[1;33m<=\u001b[0m \u001b[1;36m1940\u001b[0m\u001b[1;33m:\u001b[0m\u001b[1;33m\u001b[0m\u001b[1;33m\u001b[0m\u001b[0m\n\u001b[0m\u001b[0;32m      4\u001b[0m         \u001b[0mfiltered\u001b[0m\u001b[1;33m.\u001b[0m\u001b[0mappend\u001b[0m\u001b[1;33m(\u001b[0m\u001b[0mall_data\u001b[0m\u001b[1;33m[\u001b[0m\u001b[0mi\u001b[0m\u001b[1;33m]\u001b[0m\u001b[1;33m[\u001b[0m\u001b[0mi\u001b[0m\u001b[1;33m+\u001b[0m\u001b[1;36m1\u001b[0m\u001b[1;33m]\u001b[0m\u001b[1;33m)\u001b[0m\u001b[1;33m\u001b[0m\u001b[1;33m\u001b[0m\u001b[0m\n",
      "\u001b[1;31mTypeError\u001b[0m: list indices must be integers or slices, not dict"
     ]
    }
   ],
   "source": [
    "filtered = []\n",
    "for i in all_data:\n",
    "    if all_data[i][i+1][\"accessionYear\"] <= 1940:\n",
    "        filtered.append(all_data[i][i+1])"
   ]
  },
  {
   "cell_type": "code",
   "execution_count": 6,
   "metadata": {},
   "outputs": [],
   "source": [
    "response = requests.get(url).json()"
   ]
  },
  {
   "cell_type": "code",
   "execution_count": 8,
   "metadata": {
    "tags": []
   },
   "outputs": [
    {
     "output_type": "stream",
     "name": "stdout",
     "text": "474448\n"
    }
   ],
   "source": [
    "print(response)"
   ]
  },
  {
   "cell_type": "code",
   "execution_count": 12,
   "metadata": {},
   "outputs": [],
   "source": [
    "def request(host, path):\n",
    "    \"\"\"Given your API_KEY, send a GET request to the API.\n",
    "    Args:\n",
    "        host (str): The domain host of the API.\n",
    "        path (str): The path of the API after the domain.\n",
    "        API_KEY (str): Your API Key.\n",
    "        url_params (dict): An optional set of query parameters in the request.\n",
    "    Returns:\n",
    "        dict: The JSON response from the request.\n",
    "    Raises:\n",
    "        HTTPError: An error occurs from the HTTP request.\n",
    "    \"\"\"\n",
    "    # url_params = url_params or {}\n",
    "\n",
    "    print(u'Querying {0} ...'.format(host))\n",
    "    print(f\"{host}{path}\")\n",
    "\n",
    "    response = requests.get(f\"{host}{path}\")\n",
    "\n",
    "    print(\"querying complete\")\n",
    "\n",
    "    return response.json()"
   ]
  },
  {
   "cell_type": "code",
   "execution_count": 17,
   "metadata": {
    "tags": []
   },
   "outputs": [
    {
     "output_type": "stream",
     "name": "stdout",
     "text": "Querying https://collectionapi.metmuseum.org ...\nhttps://collectionapi.metmuseum.org/public/collection/v1/objects/1\nquerying complete\n"
    }
   ],
   "source": [
    "response = request(host, path)"
   ]
  },
  {
   "cell_type": "code",
   "execution_count": 36,
   "metadata": {},
   "outputs": [],
   "source": [
    "def iterativerequest(host, path):\n",
    "    Object_ID = [1, 2, 3, 4, 5, 6, 7, 8, 9, 10]\n",
    "    for i in Object_ID:\n",
    "        response = requests.get(f\"{host}{path}/{i}\")\n",
    "    \n",
    "    return response.json()"
   ]
  },
  {
   "cell_type": "code",
   "execution_count": null,
   "metadata": {},
   "outputs": [],
   "source": []
  },
  {
   "cell_type": "code",
   "execution_count": 35,
   "metadata": {},
   "outputs": [
    {
     "output_type": "error",
     "ename": "TypeError",
     "evalue": "'NoneType' object is not subscriptable",
     "traceback": [
      "\u001b[1;31m---------------------------------------------------------------------------\u001b[0m",
      "\u001b[1;31mTypeError\u001b[0m                                 Traceback (most recent call last)",
      "\u001b[1;32m<ipython-input-35-9c469b8697c7>\u001b[0m in \u001b[0;36m<module>\u001b[1;34m\u001b[0m\n\u001b[1;32m----> 1\u001b[1;33m \u001b[0mdata\u001b[0m \u001b[1;33m=\u001b[0m \u001b[0miterativerequest\u001b[0m\u001b[1;33m(\u001b[0m\u001b[0mhost\u001b[0m\u001b[1;33m,\u001b[0m \u001b[0mpath\u001b[0m\u001b[1;33m)\u001b[0m\u001b[1;33m\u001b[0m\u001b[1;33m\u001b[0m\u001b[0m\n\u001b[0m",
      "\u001b[1;32m<ipython-input-34-3d8e6e370ca5>\u001b[0m in \u001b[0;36miterativerequest\u001b[1;34m(host, path)\u001b[0m\n\u001b[0;32m      7\u001b[0m         \u001b[0mart_dict\u001b[0m\u001b[1;33m[\u001b[0m\u001b[1;34m\"accessionYear\"\u001b[0m\u001b[1;33m]\u001b[0m \u001b[1;33m=\u001b[0m \u001b[0mdata\u001b[0m\u001b[1;33m[\u001b[0m\u001b[1;34m\"accessionYear\"\u001b[0m\u001b[1;33m]\u001b[0m\u001b[1;33m\u001b[0m\u001b[1;33m\u001b[0m\u001b[0m\n\u001b[0;32m      8\u001b[0m         \u001b[0mart_dict\u001b[0m\u001b[1;33m[\u001b[0m\u001b[1;34m\"title\"\u001b[0m\u001b[1;33m]\u001b[0m \u001b[1;33m=\u001b[0m \u001b[0mdata\u001b[0m\u001b[1;33m[\u001b[0m\u001b[1;34m\"title\"\u001b[0m\u001b[1;33m]\u001b[0m\u001b[1;33m\u001b[0m\u001b[1;33m\u001b[0m\u001b[0m\n\u001b[1;32m----> 9\u001b[1;33m         \u001b[0mart_dict\u001b[0m\u001b[1;33m[\u001b[0m\u001b[1;34m\"constituents\"\u001b[0m\u001b[1;33m]\u001b[0m \u001b[1;33m=\u001b[0m \u001b[0mdata\u001b[0m\u001b[1;33m[\u001b[0m\u001b[1;34m\"constituents\"\u001b[0m\u001b[1;33m]\u001b[0m\u001b[1;33m[\u001b[0m\u001b[1;36m0\u001b[0m\u001b[1;33m]\u001b[0m\u001b[1;33m[\u001b[0m\u001b[1;34m\"name\"\u001b[0m\u001b[1;33m]\u001b[0m\u001b[1;33m\u001b[0m\u001b[1;33m\u001b[0m\u001b[0m\n\u001b[0m\u001b[0;32m     10\u001b[0m \u001b[1;33m\u001b[0m\u001b[0m\n\u001b[0;32m     11\u001b[0m     \u001b[1;32mreturn\u001b[0m \u001b[0mresponse\u001b[0m\u001b[1;33m.\u001b[0m\u001b[0mjson\u001b[0m\u001b[1;33m(\u001b[0m\u001b[1;33m)\u001b[0m\u001b[1;33m,\u001b[0m \u001b[0mart_dict\u001b[0m\u001b[1;33m\u001b[0m\u001b[1;33m\u001b[0m\u001b[0m\n",
      "\u001b[1;31mTypeError\u001b[0m: 'NoneType' object is not subscriptable"
     ]
    }
   ],
   "source": [
    "data = iterativerequest(host, path)"
   ]
  },
  {
   "cell_type": "code",
   "execution_count": 41,
   "metadata": {
    "tags": []
   },
   "outputs": [
    {
     "output_type": "stream",
     "name": "stdout",
     "text": "[1, 2, 3, 4, 5, 6, 7, 8, 9, 10]\n"
    }
   ],
   "source": [
    "Object_ID = [i for i in range(1, 11)]\n",
    "print(Object_ID)"
   ]
  },
  {
   "cell_type": "code",
   "execution_count": null,
   "metadata": {},
   "outputs": [],
   "source": [
    "for i in Object_ID:\n",
    "    "
   ]
  },
  {
   "cell_type": "code",
   "execution_count": 18,
   "metadata": {},
   "outputs": [
    {
     "output_type": "execute_result",
     "data": {
      "text/plain": "{'objectID': 1,\n 'isHighlight': False,\n 'accessionNumber': '1979.486.1',\n 'accessionYear': '1979',\n 'isPublicDomain': False,\n 'primaryImage': '',\n 'primaryImageSmall': '',\n 'additionalImages': [],\n 'constituents': [{'role': 'Maker',\n   'name': 'James Barton Longacre',\n   'constituentULAN_URL': 'http://vocab.getty.edu/page/ulan/500011409',\n   'constituentWikidata_URL': '',\n   'gender': ''}],\n 'department': 'The American Wing',\n 'objectName': 'Coin',\n 'title': 'One-dollar Liberty Head Coin',\n 'culture': '',\n 'period': '',\n 'dynasty': '',\n 'reign': '',\n 'portfolio': '',\n 'artistRole': 'Maker',\n 'artistPrefix': '',\n 'artistDisplayName': 'James Barton Longacre',\n 'artistDisplayBio': 'American, Delaware County, Pennsylvania 1794–1869 Philadelphia, Pennsylvania',\n 'artistSuffix': '',\n 'artistAlphaSort': 'Longacre, James Barton',\n 'artistNationality': 'American',\n 'artistBeginDate': '1794',\n 'artistEndDate': '1869',\n 'artistGender': '',\n 'artistWikidata_URL': '',\n 'artistULAN_URL': 'http://vocab.getty.edu/page/ulan/500011409',\n 'objectDate': '1853',\n 'objectBeginDate': 1853,\n 'objectEndDate': 1853,\n 'medium': 'Gold',\n 'dimensions': 'Dimensions unavailable',\n 'creditLine': 'Gift of Heinz L. Stoppelmann, 1979',\n 'geographyType': '',\n 'city': '',\n 'state': '',\n 'county': '',\n 'country': '',\n 'region': '',\n 'subregion': '',\n 'locale': '',\n 'locus': '',\n 'excavation': '',\n 'river': '',\n 'classification': 'Metal',\n 'rightsAndReproduction': '',\n 'linkResource': '',\n 'metadataDate': '2020-03-02T21:50:01.377Z',\n 'repository': 'Metropolitan Museum of Art, New York, NY',\n 'objectURL': 'https://www.metmuseum.org/art/collection/search/1',\n 'tags': None,\n 'objectWikidata_URL': '',\n 'isTimelineWork': False}"
     },
     "metadata": {},
     "execution_count": 18
    }
   ],
   "source": [
    "response"
   ]
  },
  {
   "cell_type": "code",
   "execution_count": null,
   "metadata": {},
   "outputs": [],
   "source": []
  }
 ]
}